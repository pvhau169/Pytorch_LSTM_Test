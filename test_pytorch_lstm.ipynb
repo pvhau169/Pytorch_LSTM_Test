{
 "cells": [
  {
   "cell_type": "code",
   "execution_count": 101,
   "metadata": {},
   "outputs": [],
   "source": [
    "import torch\n",
    "from models import predictConcentrationModel\n",
    "import numpy as np\n",
    "from sklearn.model_selection import train_test_split\n",
    "from tqdm.notebook import tqdm"
   ]
  },
  {
   "cell_type": "markdown",
   "metadata": {},
   "source": [
    "Just preprocess data, no problem at all"
   ]
  },
  {
   "cell_type": "code",
   "execution_count": 112,
   "metadata": {},
   "outputs": [
    {
     "name": "stdout",
     "output_type": "stream",
     "text": [
      "(20, 79, 29)\n",
      "(20, 79, 200)\n",
      "(20, 2)\n"
     ]
    }
   ],
   "source": [
    "#read data\n",
    "\n",
    "X_data = np.load('data/X_data.pkl', allow_pickle=True).astype(np.float32)\n",
    "Y_data = np.load('data/Y_data.pkl', allow_pickle=True).astype(np.float32)\n",
    "water_data = np.load('data/water_data.pkl', allow_pickle=True).astype(np.float32)\n",
    "\n",
    "\n",
    "print(X_data.shape)\n",
    "print(Y_data.shape)\n",
    "print(water_data.shape)"
   ]
  },
  {
   "cell_type": "code",
   "execution_count": 113,
   "metadata": {},
   "outputs": [],
   "source": [
    "feature_dim = X_data.shape[-1]\n",
    "output_dim = Y_data.shape[-1]\n",
    "water_dim = water_data.shape[-1]"
   ]
  },
  {
   "cell_type": "code",
   "execution_count": 114,
   "metadata": {},
   "outputs": [
    {
     "name": "stdout",
     "output_type": "stream",
     "text": [
      "(15, 79, 29) (5, 79, 29)\n"
     ]
    }
   ],
   "source": [
    "X_train, X_test = train_test_split(X_data, test_size=0.25, shuffle=False)\n",
    "Y_train, Y_test = train_test_split(Y_data, test_size=0.25, shuffle=False)\n",
    "\n",
    "water_train, water_test = train_test_split(water_data, test_size=0.25, shuffle=False)\n",
    "\n",
    "\n",
    "print(X_train.shape, X_test.shape)"
   ]
  },
  {
   "cell_type": "markdown",
   "metadata": {},
   "source": [
    "#Testing Start here"
   ]
  },
  {
   "cell_type": "code",
   "execution_count": 115,
   "metadata": {},
   "outputs": [
    {
     "data": {
      "text/plain": [
       "<All keys matched successfully>"
      ]
     },
     "execution_count": 115,
     "metadata": {},
     "output_type": "execute_result"
    }
   ],
   "source": [
    "#load_model\n",
    "# device = torch.device(\"cuda\" if torch.cuda.is_available() else \"cpu\")\n",
    "device = 'cpu'\n",
    "\n",
    "#feeding entire sequence\n",
    "model_1 = predictConcentrationModel(feature_dim, output_dim, water_dim, device)\n",
    "model_1.to(device)\n",
    "\n",
    "#feeding single time_step\n",
    "model_2 = predictConcentrationModel(feature_dim, output_dim, water_dim, device)\n",
    "model_2.to(device)\n",
    "\n",
    "#Two models have the same weights\n",
    "path = 'weights/radius_5.pth'\n",
    "model_1.load_state_dict(torch.load(path))\n",
    "model_2.load_state_dict(torch.load(path))"
   ]
  },
  {
   "cell_type": "code",
   "execution_count": 116,
   "metadata": {},
   "outputs": [],
   "source": [
    "def checkModel(model1, model2):\n",
    "    for p1, p2 in zip(model1.parameters(), model2.parameters()):\n",
    "        if p1.data.ne(p2.data).sum() > 0:\n",
    "            return False\n",
    "    return True"
   ]
  },
  {
   "cell_type": "code",
   "execution_count": 117,
   "metadata": {},
   "outputs": [
    {
     "data": {
      "text/plain": [
       "True"
      ]
     },
     "execution_count": 117,
     "metadata": {},
     "output_type": "execute_result"
    }
   ],
   "source": [
    "checkModel(model_1, model_2)"
   ]
  },
  {
   "cell_type": "code",
   "execution_count": 118,
   "metadata": {},
   "outputs": [],
   "source": [
    "#the X_data has shape (batch_size, seq_len, feature_dim)\n",
    "#I take the sample of batchsize = 1, seq_len =5 to test\n",
    "\n",
    "seq_len = 5\n",
    "X_sample = X_train[:1, :seq_len]\n"
   ]
  },
  {
   "cell_type": "code",
   "execution_count": 119,
   "metadata": {},
   "outputs": [],
   "source": [
    "hidden_1, cell_state_1 = model_1.init_hidden_states(bsize = 1)\n",
    "\n",
    "#original forward\n",
    "# output_1, hidden_1, cell_state_1 = model_1(X_sample, hidden_1, cell_state_1)\n",
    "\n",
    "\n",
    "#foward without last layer\n",
    "output_1, hidden_1, cell_state_1 = model_1.test_forward(X_sample, hidden_1, cell_state_1)"
   ]
  },
  {
   "cell_type": "code",
   "execution_count": 120,
   "metadata": {},
   "outputs": [],
   "source": [
    "hidden_2, cell_state_2 = model_2.init_hidden_states(bsize = 1)\n",
    "\n",
    "for i in range(seq_len):\n",
    "    # output_2, hidden_2, cell_state_2 = model_2(X_sample[:, i:i+1], hidden_2, cell_state_2)\n",
    "    #foward without last layer\n",
    "    output_2, hidden_2, cell_state_2 = model_2.test_forward(X_sample[:, i:i+1], hidden_2, cell_state_2)"
   ]
  },
  {
   "cell_type": "code",
   "execution_count": 121,
   "metadata": {},
   "outputs": [
    {
     "name": "stdout",
     "output_type": "stream",
     "text": [
      "-4.8446316e-07\n",
      "-4.8446316e-07\n",
      "-2.6436014e-06\n"
     ]
    }
   ],
   "source": [
    "#compare the last time_step output\n",
    "#output\n",
    "temp = output_1[:,-1,:].detach().numpy() - output_2[:,-1,:].detach().numpy()\n",
    "print(np.sum(temp))\n",
    "\n",
    "#hidden_state\n",
    "temp = hidden_1[:,-1,:].detach().numpy() - hidden_2[:,-1,:].detach().numpy()\n",
    "print(np.sum(temp))\n",
    "\n",
    "#cell_state\n",
    "temp = cell_state_1[:,-1,:].detach().numpy() - cell_state_2[:,-1,:].detach().numpy()\n",
    "print(np.sum(temp))"
   ]
  },
  {
   "cell_type": "code",
   "execution_count": 122,
   "metadata": {},
   "outputs": [
    {
     "name": "stdout",
     "output_type": "stream",
     "text": [
      "0.0\n",
      "0.0\n",
      "0.0\n"
     ]
    }
   ],
   "source": [
    "#Repeat with seqlen = 1\n",
    "\n",
    "seq_len = 1\n",
    "X_sample = X_train[:1, :seq_len]\n",
    "\n",
    "\n",
    "hidden_1, cell_state_1 = model_1.init_hidden_states(bsize = 1)\n",
    "output_1, hidden_1, cell_state_1 = model_1(X_sample, hidden_1, cell_state_1)\n",
    "\n",
    "hidden_2, cell_state_2 = model_2.init_hidden_states(bsize = 1)\n",
    "for i in range(seq_len):\n",
    "    output_2, hidden_2, cell_state_2 = model_2(X_sample[:, i:i+1], hidden_2, cell_state_2)\n",
    "\n",
    "#compare the last time_step output\n",
    "#output\n",
    "temp = output_1[:,-1,:].detach().numpy() - output_2.detach().numpy()\n",
    "print(np.sum(temp))\n",
    "\n",
    "#hidden_state\n",
    "temp = hidden_1[:,-1,:].detach().numpy() - hidden_2.detach().numpy()\n",
    "print(np.sum(temp))\n",
    "\n",
    "#cell_state\n",
    "temp = cell_state_1[:,-1,:].detach().numpy() - cell_state_2.detach().numpy()\n",
    "print(np.sum(temp))"
   ]
  },
  {
   "cell_type": "code",
   "execution_count": 123,
   "metadata": {},
   "outputs": [
    {
     "name": "stdout",
     "output_type": "stream",
     "text": [
      "0.0\n",
      "0.0\n",
      "0.0\n"
     ]
    }
   ],
   "source": [
    "#Samething without last layer\n",
    "\n",
    "seq_len = 1\n",
    "X_sample = X_train[:1, :seq_len]\n",
    "\n",
    "\n",
    "hidden_1, cell_state_1 = model_1.init_hidden_states(bsize = 1)\n",
    "output_1, hidden_1, cell_state_1 = model_1.test_forward(X_sample, hidden_1, cell_state_1)\n",
    "\n",
    "hidden_2, cell_state_2 = model_2.init_hidden_states(bsize = 1)\n",
    "for i in range(seq_len):\n",
    "    output_2, hidden_2, cell_state_2 = model_2.test_forward(X_sample[:, i:i+1], hidden_2, cell_state_2)\n",
    "\n",
    "#compare the last time_step output\n",
    "#output\n",
    "temp = output_1[:,-1,:].detach().numpy() - output_2.detach().numpy()\n",
    "print(np.sum(temp))\n",
    "\n",
    "#hidden_state\n",
    "temp = hidden_1[:,-1,:].detach().numpy() - hidden_2.detach().numpy()\n",
    "print(np.sum(temp))\n",
    "\n",
    "#cell_state\n",
    "temp = cell_state_1[:,-1,:].detach().numpy() - cell_state_2.detach().numpy()\n",
    "print(np.sum(temp))"
   ]
  },
  {
   "cell_type": "code",
   "execution_count": null,
   "metadata": {},
   "outputs": [],
   "source": []
  },
  {
   "cell_type": "code",
   "execution_count": null,
   "metadata": {},
   "outputs": [],
   "source": []
  }
 ],
 "metadata": {
  "kernelspec": {
   "display_name": "Python 3",
   "language": "python",
   "name": "python3"
  },
  "language_info": {
   "codemirror_mode": {
    "name": "ipython",
    "version": 3
   },
   "file_extension": ".py",
   "mimetype": "text/x-python",
   "name": "python",
   "nbconvert_exporter": "python",
   "pygments_lexer": "ipython3",
   "version": "3.7.6"
  }
 },
 "nbformat": 4,
 "nbformat_minor": 2
}
